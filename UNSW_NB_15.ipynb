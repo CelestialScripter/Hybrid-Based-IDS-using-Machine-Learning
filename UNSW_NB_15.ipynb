{
  "cells": [
    {
      "cell_type": "code",
      "execution_count": null,
      "metadata": {
        "id": "_gvytgJqfWWE"
      },
      "outputs": [],
      "source": [
        "import pandas as pd\n",
        "import numpy as np\n",
        "import seaborn as sns\n",
        "import time\n",
        "import matplotlib.pyplot as plt\n",
        "from sklearn.ensemble import RandomForestClassifier\n",
        "from sklearn.linear_model import LogisticRegression\n",
        "from sklearn.preprocessing import LabelEncoder\n",
        "from sklearn.cluster import KMeans\n",
        "from sklearn.metrics import accuracy_score, confusion_matrix, ConfusionMatrixDisplay, RocCurveDisplay, auc\n",
        "from sklearn.metrics import precision_score, recall_score, f1_score, roc_curve\n",
        "from sklearn.metrics import precision_recall_curve, PrecisionRecallDisplay, roc_auc_score\n",
        "from sklearn.model_selection import train_test_split\n",
        "from sklearn.preprocessing import StandardScaler\n",
        "from sklearn.feature_selection import RFE\n",
        "from sklearn.tree import DecisionTreeClassifier\n",
        "from sklearn.naive_bayes import GaussianNB\n",
        "\n"
      ]
    },
    {
      "cell_type": "code",
      "execution_count": null,
      "metadata": {
        "colab": {
          "base_uri": "https://localhost:8080/"
        },
        "id": "i6To-jSzgZDO",
        "outputId": "d9772a98-c549-4eae-94c8-f3890a80d8cc"
      },
      "outputs": [
        {
          "name": "stdout",
          "output_type": "stream",
          "text": [
            "Mounted at /content/drive\n"
          ]
        }
      ],
      "source": [
        "from google.colab import drive\n",
        "drive.mount (\"/content/drive\")"
      ]
    },
    {
      "cell_type": "code",
      "execution_count": null,
      "metadata": {
        "id": "xW_CkmqegZy-"
      },
      "outputs": [],
      "source": [
        "Path = \"drive/My Drive/UNSW_NB15 DATASET\""
      ]
    },
    {
      "cell_type": "code",
      "execution_count": null,
      "metadata": {
        "colab": {
          "base_uri": "https://localhost:8080/"
        },
        "id": "HX4ACvllgRL-",
        "outputId": "adc1674d-783a-4696-91c0-60138effca45"
      },
      "outputs": [
        {
          "name": "stdout",
          "output_type": "stream",
          "text": [
            "Length of training set:  82332\n",
            "Length of testing set:  175341\n"
          ]
        }
      ],
      "source": [
        "df_train = pd.read_csv(Path +\"/UNSW_NB15_training-set.csv\")\n",
        "df_test = pd.read_csv(Path +\"/UNSW_NB15_testing-set.csv\")\n",
        "print(\"Length of training set: \", len(df_train))\n",
        "print(\"Length of testing set: \", len(df_test))"
      ]
    },
    {
      "cell_type": "code",
      "execution_count": null,
      "metadata": {
        "colab": {
          "base_uri": "https://localhost:8080/"
        },
        "id": "pYY6uAXfhYIJ",
        "outputId": "99b02232-f5fa-4f49-e61a-a46744b561ea"
      },
      "outputs": [
        {
          "name": "stdout",
          "output_type": "stream",
          "text": [
            "<class 'pandas.core.frame.DataFrame'>\n",
            "Int64Index: 257673 entries, 0 to 175340\n",
            "Data columns (total 45 columns):\n",
            " #   Column             Non-Null Count   Dtype  \n",
            "---  ------             --------------   -----  \n",
            " 0   id                 257673 non-null  int64  \n",
            " 1   dur                257673 non-null  float64\n",
            " 2   proto              257673 non-null  object \n",
            " 3   service            257673 non-null  object \n",
            " 4   state              257673 non-null  object \n",
            " 5   spkts              257673 non-null  int64  \n",
            " 6   dpkts              257673 non-null  int64  \n",
            " 7   sbytes             257673 non-null  int64  \n",
            " 8   dbytes             257673 non-null  int64  \n",
            " 9   rate               257673 non-null  float64\n",
            " 10  sttl               257673 non-null  int64  \n",
            " 11  dttl               257673 non-null  int64  \n",
            " 12  sload              257673 non-null  float64\n",
            " 13  dload              257673 non-null  float64\n",
            " 14  sloss              257673 non-null  int64  \n",
            " 15  dloss              257673 non-null  int64  \n",
            " 16  sinpkt             257673 non-null  float64\n",
            " 17  dinpkt             257673 non-null  float64\n",
            " 18  sjit               257673 non-null  float64\n",
            " 19  djit               257673 non-null  float64\n",
            " 20  swin               257673 non-null  int64  \n",
            " 21  stcpb              257673 non-null  int64  \n",
            " 22  dtcpb              257673 non-null  int64  \n",
            " 23  dwin               257673 non-null  int64  \n",
            " 24  tcprtt             257673 non-null  float64\n",
            " 25  synack             257673 non-null  float64\n",
            " 26  ackdat             257673 non-null  float64\n",
            " 27  smean              257673 non-null  int64  \n",
            " 28  dmean              257673 non-null  int64  \n",
            " 29  trans_depth        257673 non-null  int64  \n",
            " 30  response_body_len  257673 non-null  int64  \n",
            " 31  ct_srv_src         257673 non-null  int64  \n",
            " 32  ct_state_ttl       257673 non-null  int64  \n",
            " 33  ct_dst_ltm         257673 non-null  int64  \n",
            " 34  ct_src_dport_ltm   257673 non-null  int64  \n",
            " 35  ct_dst_sport_ltm   257673 non-null  int64  \n",
            " 36  ct_dst_src_ltm     257673 non-null  int64  \n",
            " 37  is_ftp_login       257673 non-null  int64  \n",
            " 38  ct_ftp_cmd         257673 non-null  int64  \n",
            " 39  ct_flw_http_mthd   257673 non-null  int64  \n",
            " 40  ct_src_ltm         257673 non-null  int64  \n",
            " 41  ct_srv_dst         257673 non-null  int64  \n",
            " 42  is_sm_ips_ports    257673 non-null  int64  \n",
            " 43  attack_cat         257673 non-null  object \n",
            " 44  label              257673 non-null  int64  \n",
            "dtypes: float64(11), int64(30), object(4)\n",
            "memory usage: 90.4+ MB\n"
          ]
        }
      ],
      "source": [
        "df = pd.concat([df_train, df_test])\n",
        "# information about the dataset\n",
        "df.info()"
      ]
    },
    {
      "cell_type": "code",
      "execution_count": null,
      "metadata": {
        "colab": {
          "base_uri": "https://localhost:8080/",
          "height": 487
        },
        "id": "QSwflFiJfe3R",
        "outputId": "96f5dc42-7426-475a-de1d-87216c9627be"
      },
      "outputs": [
        {
          "data": {
            "text/html": [
              "\n",
              "  <div id=\"df-1f6baa97-f78d-4f5e-ab3e-652331b71f28\">\n",
              "    <div class=\"colab-df-container\">\n",
              "      <div>\n",
              "<style scoped>\n",
              "    .dataframe tbody tr th:only-of-type {\n",
              "        vertical-align: middle;\n",
              "    }\n",
              "\n",
              "    .dataframe tbody tr th {\n",
              "        vertical-align: top;\n",
              "    }\n",
              "\n",
              "    .dataframe thead th {\n",
              "        text-align: right;\n",
              "    }\n",
              "</style>\n",
              "<table border=\"1\" class=\"dataframe\">\n",
              "  <thead>\n",
              "    <tr style=\"text-align: right;\">\n",
              "      <th></th>\n",
              "      <th>id</th>\n",
              "      <th>dur</th>\n",
              "      <th>proto</th>\n",
              "      <th>service</th>\n",
              "      <th>state</th>\n",
              "      <th>spkts</th>\n",
              "      <th>dpkts</th>\n",
              "      <th>sbytes</th>\n",
              "      <th>dbytes</th>\n",
              "      <th>rate</th>\n",
              "      <th>...</th>\n",
              "      <th>ct_dst_sport_ltm</th>\n",
              "      <th>ct_dst_src_ltm</th>\n",
              "      <th>is_ftp_login</th>\n",
              "      <th>ct_ftp_cmd</th>\n",
              "      <th>ct_flw_http_mthd</th>\n",
              "      <th>ct_src_ltm</th>\n",
              "      <th>ct_srv_dst</th>\n",
              "      <th>is_sm_ips_ports</th>\n",
              "      <th>attack_cat</th>\n",
              "      <th>label</th>\n",
              "    </tr>\n",
              "  </thead>\n",
              "  <tbody>\n",
              "    <tr>\n",
              "      <th>count</th>\n",
              "      <td>257673.000000</td>\n",
              "      <td>257673.000000</td>\n",
              "      <td>257673</td>\n",
              "      <td>257673</td>\n",
              "      <td>257673</td>\n",
              "      <td>257673.000000</td>\n",
              "      <td>257673.000000</td>\n",
              "      <td>2.576730e+05</td>\n",
              "      <td>2.576730e+05</td>\n",
              "      <td>2.576730e+05</td>\n",
              "      <td>...</td>\n",
              "      <td>257673.000000</td>\n",
              "      <td>257673.000000</td>\n",
              "      <td>257673.000000</td>\n",
              "      <td>257673.000000</td>\n",
              "      <td>257673.000000</td>\n",
              "      <td>257673.000000</td>\n",
              "      <td>257673.000000</td>\n",
              "      <td>257673.000000</td>\n",
              "      <td>257673</td>\n",
              "      <td>257673.000000</td>\n",
              "    </tr>\n",
              "    <tr>\n",
              "      <th>unique</th>\n",
              "      <td>NaN</td>\n",
              "      <td>NaN</td>\n",
              "      <td>133</td>\n",
              "      <td>13</td>\n",
              "      <td>11</td>\n",
              "      <td>NaN</td>\n",
              "      <td>NaN</td>\n",
              "      <td>NaN</td>\n",
              "      <td>NaN</td>\n",
              "      <td>NaN</td>\n",
              "      <td>...</td>\n",
              "      <td>NaN</td>\n",
              "      <td>NaN</td>\n",
              "      <td>NaN</td>\n",
              "      <td>NaN</td>\n",
              "      <td>NaN</td>\n",
              "      <td>NaN</td>\n",
              "      <td>NaN</td>\n",
              "      <td>NaN</td>\n",
              "      <td>10</td>\n",
              "      <td>NaN</td>\n",
              "    </tr>\n",
              "    <tr>\n",
              "      <th>top</th>\n",
              "      <td>NaN</td>\n",
              "      <td>NaN</td>\n",
              "      <td>tcp</td>\n",
              "      <td>-</td>\n",
              "      <td>FIN</td>\n",
              "      <td>NaN</td>\n",
              "      <td>NaN</td>\n",
              "      <td>NaN</td>\n",
              "      <td>NaN</td>\n",
              "      <td>NaN</td>\n",
              "      <td>...</td>\n",
              "      <td>NaN</td>\n",
              "      <td>NaN</td>\n",
              "      <td>NaN</td>\n",
              "      <td>NaN</td>\n",
              "      <td>NaN</td>\n",
              "      <td>NaN</td>\n",
              "      <td>NaN</td>\n",
              "      <td>NaN</td>\n",
              "      <td>Normal</td>\n",
              "      <td>NaN</td>\n",
              "    </tr>\n",
              "    <tr>\n",
              "      <th>freq</th>\n",
              "      <td>NaN</td>\n",
              "      <td>NaN</td>\n",
              "      <td>123041</td>\n",
              "      <td>141321</td>\n",
              "      <td>117164</td>\n",
              "      <td>NaN</td>\n",
              "      <td>NaN</td>\n",
              "      <td>NaN</td>\n",
              "      <td>NaN</td>\n",
              "      <td>NaN</td>\n",
              "      <td>...</td>\n",
              "      <td>NaN</td>\n",
              "      <td>NaN</td>\n",
              "      <td>NaN</td>\n",
              "      <td>NaN</td>\n",
              "      <td>NaN</td>\n",
              "      <td>NaN</td>\n",
              "      <td>NaN</td>\n",
              "      <td>NaN</td>\n",
              "      <td>93000</td>\n",
              "      <td>NaN</td>\n",
              "    </tr>\n",
              "    <tr>\n",
              "      <th>mean</th>\n",
              "      <td>72811.823858</td>\n",
              "      <td>1.246715</td>\n",
              "      <td>NaN</td>\n",
              "      <td>NaN</td>\n",
              "      <td>NaN</td>\n",
              "      <td>19.777144</td>\n",
              "      <td>18.514703</td>\n",
              "      <td>8.572952e+03</td>\n",
              "      <td>1.438729e+04</td>\n",
              "      <td>9.125391e+04</td>\n",
              "      <td>...</td>\n",
              "      <td>4.032677</td>\n",
              "      <td>8.322964</td>\n",
              "      <td>0.012819</td>\n",
              "      <td>0.012850</td>\n",
              "      <td>0.132005</td>\n",
              "      <td>6.800045</td>\n",
              "      <td>9.121049</td>\n",
              "      <td>0.014274</td>\n",
              "      <td>NaN</td>\n",
              "      <td>0.639077</td>\n",
              "    </tr>\n",
              "    <tr>\n",
              "      <th>std</th>\n",
              "      <td>48929.917641</td>\n",
              "      <td>5.974305</td>\n",
              "      <td>NaN</td>\n",
              "      <td>NaN</td>\n",
              "      <td>NaN</td>\n",
              "      <td>135.947152</td>\n",
              "      <td>111.985965</td>\n",
              "      <td>1.737739e+05</td>\n",
              "      <td>1.461993e+05</td>\n",
              "      <td>1.603446e+05</td>\n",
              "      <td>...</td>\n",
              "      <td>5.831515</td>\n",
              "      <td>11.120754</td>\n",
              "      <td>0.116091</td>\n",
              "      <td>0.116421</td>\n",
              "      <td>0.681854</td>\n",
              "      <td>8.396266</td>\n",
              "      <td>10.874752</td>\n",
              "      <td>0.118618</td>\n",
              "      <td>NaN</td>\n",
              "      <td>0.480269</td>\n",
              "    </tr>\n",
              "    <tr>\n",
              "      <th>min</th>\n",
              "      <td>1.000000</td>\n",
              "      <td>0.000000</td>\n",
              "      <td>NaN</td>\n",
              "      <td>NaN</td>\n",
              "      <td>NaN</td>\n",
              "      <td>1.000000</td>\n",
              "      <td>0.000000</td>\n",
              "      <td>2.400000e+01</td>\n",
              "      <td>0.000000e+00</td>\n",
              "      <td>0.000000e+00</td>\n",
              "      <td>...</td>\n",
              "      <td>1.000000</td>\n",
              "      <td>1.000000</td>\n",
              "      <td>0.000000</td>\n",
              "      <td>0.000000</td>\n",
              "      <td>0.000000</td>\n",
              "      <td>1.000000</td>\n",
              "      <td>1.000000</td>\n",
              "      <td>0.000000</td>\n",
              "      <td>NaN</td>\n",
              "      <td>0.000000</td>\n",
              "    </tr>\n",
              "    <tr>\n",
              "      <th>25%</th>\n",
              "      <td>32210.000000</td>\n",
              "      <td>0.000008</td>\n",
              "      <td>NaN</td>\n",
              "      <td>NaN</td>\n",
              "      <td>NaN</td>\n",
              "      <td>2.000000</td>\n",
              "      <td>0.000000</td>\n",
              "      <td>1.140000e+02</td>\n",
              "      <td>0.000000e+00</td>\n",
              "      <td>3.078928e+01</td>\n",
              "      <td>...</td>\n",
              "      <td>1.000000</td>\n",
              "      <td>1.000000</td>\n",
              "      <td>0.000000</td>\n",
              "      <td>0.000000</td>\n",
              "      <td>0.000000</td>\n",
              "      <td>2.000000</td>\n",
              "      <td>2.000000</td>\n",
              "      <td>0.000000</td>\n",
              "      <td>NaN</td>\n",
              "      <td>0.000000</td>\n",
              "    </tr>\n",
              "    <tr>\n",
              "      <th>50%</th>\n",
              "      <td>64419.000000</td>\n",
              "      <td>0.004285</td>\n",
              "      <td>NaN</td>\n",
              "      <td>NaN</td>\n",
              "      <td>NaN</td>\n",
              "      <td>4.000000</td>\n",
              "      <td>2.000000</td>\n",
              "      <td>5.280000e+02</td>\n",
              "      <td>1.780000e+02</td>\n",
              "      <td>2.955665e+03</td>\n",
              "      <td>...</td>\n",
              "      <td>1.000000</td>\n",
              "      <td>3.000000</td>\n",
              "      <td>0.000000</td>\n",
              "      <td>0.000000</td>\n",
              "      <td>0.000000</td>\n",
              "      <td>3.000000</td>\n",
              "      <td>4.000000</td>\n",
              "      <td>0.000000</td>\n",
              "      <td>NaN</td>\n",
              "      <td>1.000000</td>\n",
              "    </tr>\n",
              "    <tr>\n",
              "      <th>75%</th>\n",
              "      <td>110923.000000</td>\n",
              "      <td>0.685777</td>\n",
              "      <td>NaN</td>\n",
              "      <td>NaN</td>\n",
              "      <td>NaN</td>\n",
              "      <td>12.000000</td>\n",
              "      <td>10.000000</td>\n",
              "      <td>1.362000e+03</td>\n",
              "      <td>1.064000e+03</td>\n",
              "      <td>1.250000e+05</td>\n",
              "      <td>...</td>\n",
              "      <td>3.000000</td>\n",
              "      <td>8.000000</td>\n",
              "      <td>0.000000</td>\n",
              "      <td>0.000000</td>\n",
              "      <td>0.000000</td>\n",
              "      <td>8.000000</td>\n",
              "      <td>11.000000</td>\n",
              "      <td>0.000000</td>\n",
              "      <td>NaN</td>\n",
              "      <td>1.000000</td>\n",
              "    </tr>\n",
              "    <tr>\n",
              "      <th>max</th>\n",
              "      <td>175341.000000</td>\n",
              "      <td>59.999989</td>\n",
              "      <td>NaN</td>\n",
              "      <td>NaN</td>\n",
              "      <td>NaN</td>\n",
              "      <td>10646.000000</td>\n",
              "      <td>11018.000000</td>\n",
              "      <td>1.435577e+07</td>\n",
              "      <td>1.465753e+07</td>\n",
              "      <td>1.000000e+06</td>\n",
              "      <td>...</td>\n",
              "      <td>46.000000</td>\n",
              "      <td>65.000000</td>\n",
              "      <td>4.000000</td>\n",
              "      <td>4.000000</td>\n",
              "      <td>30.000000</td>\n",
              "      <td>60.000000</td>\n",
              "      <td>62.000000</td>\n",
              "      <td>1.000000</td>\n",
              "      <td>NaN</td>\n",
              "      <td>1.000000</td>\n",
              "    </tr>\n",
              "  </tbody>\n",
              "</table>\n",
              "<p>11 rows × 45 columns</p>\n",
              "</div>\n",
              "      <button class=\"colab-df-convert\" onclick=\"convertToInteractive('df-1f6baa97-f78d-4f5e-ab3e-652331b71f28')\"\n",
              "              title=\"Convert this dataframe to an interactive table.\"\n",
              "              style=\"display:none;\">\n",
              "        \n",
              "  <svg xmlns=\"http://www.w3.org/2000/svg\" height=\"24px\"viewBox=\"0 0 24 24\"\n",
              "       width=\"24px\">\n",
              "    <path d=\"M0 0h24v24H0V0z\" fill=\"none\"/>\n",
              "    <path d=\"M18.56 5.44l.94 2.06.94-2.06 2.06-.94-2.06-.94-.94-2.06-.94 2.06-2.06.94zm-11 1L8.5 8.5l.94-2.06 2.06-.94-2.06-.94L8.5 2.5l-.94 2.06-2.06.94zm10 10l.94 2.06.94-2.06 2.06-.94-2.06-.94-.94-2.06-.94 2.06-2.06.94z\"/><path d=\"M17.41 7.96l-1.37-1.37c-.4-.4-.92-.59-1.43-.59-.52 0-1.04.2-1.43.59L10.3 9.45l-7.72 7.72c-.78.78-.78 2.05 0 2.83L4 21.41c.39.39.9.59 1.41.59.51 0 1.02-.2 1.41-.59l7.78-7.78 2.81-2.81c.8-.78.8-2.07 0-2.86zM5.41 20L4 18.59l7.72-7.72 1.47 1.35L5.41 20z\"/>\n",
              "  </svg>\n",
              "      </button>\n",
              "      \n",
              "  <style>\n",
              "    .colab-df-container {\n",
              "      display:flex;\n",
              "      flex-wrap:wrap;\n",
              "      gap: 12px;\n",
              "    }\n",
              "\n",
              "    .colab-df-convert {\n",
              "      background-color: #E8F0FE;\n",
              "      border: none;\n",
              "      border-radius: 50%;\n",
              "      cursor: pointer;\n",
              "      display: none;\n",
              "      fill: #1967D2;\n",
              "      height: 32px;\n",
              "      padding: 0 0 0 0;\n",
              "      width: 32px;\n",
              "    }\n",
              "\n",
              "    .colab-df-convert:hover {\n",
              "      background-color: #E2EBFA;\n",
              "      box-shadow: 0px 1px 2px rgba(60, 64, 67, 0.3), 0px 1px 3px 1px rgba(60, 64, 67, 0.15);\n",
              "      fill: #174EA6;\n",
              "    }\n",
              "\n",
              "    [theme=dark] .colab-df-convert {\n",
              "      background-color: #3B4455;\n",
              "      fill: #D2E3FC;\n",
              "    }\n",
              "\n",
              "    [theme=dark] .colab-df-convert:hover {\n",
              "      background-color: #434B5C;\n",
              "      box-shadow: 0px 1px 3px 1px rgba(0, 0, 0, 0.15);\n",
              "      filter: drop-shadow(0px 1px 2px rgba(0, 0, 0, 0.3));\n",
              "      fill: #FFFFFF;\n",
              "    }\n",
              "  </style>\n",
              "\n",
              "      <script>\n",
              "        const buttonEl =\n",
              "          document.querySelector('#df-1f6baa97-f78d-4f5e-ab3e-652331b71f28 button.colab-df-convert');\n",
              "        buttonEl.style.display =\n",
              "          google.colab.kernel.accessAllowed ? 'block' : 'none';\n",
              "\n",
              "        async function convertToInteractive(key) {\n",
              "          const element = document.querySelector('#df-1f6baa97-f78d-4f5e-ab3e-652331b71f28');\n",
              "          const dataTable =\n",
              "            await google.colab.kernel.invokeFunction('convertToInteractive',\n",
              "                                                     [key], {});\n",
              "          if (!dataTable) return;\n",
              "\n",
              "          const docLinkHtml = 'Like what you see? Visit the ' +\n",
              "            '<a target=\"_blank\" href=https://colab.research.google.com/notebooks/data_table.ipynb>data table notebook</a>'\n",
              "            + ' to learn more about interactive tables.';\n",
              "          element.innerHTML = '';\n",
              "          dataTable['output_type'] = 'display_data';\n",
              "          await google.colab.output.renderOutput(dataTable, element);\n",
              "          const docLink = document.createElement('div');\n",
              "          docLink.innerHTML = docLinkHtml;\n",
              "          element.appendChild(docLink);\n",
              "        }\n",
              "      </script>\n",
              "    </div>\n",
              "  </div>\n",
              "  "
            ],
            "text/plain": [
              "                   id            dur   proto service   state          spkts  \\\n",
              "count   257673.000000  257673.000000  257673  257673  257673  257673.000000   \n",
              "unique            NaN            NaN     133      13      11            NaN   \n",
              "top               NaN            NaN     tcp       -     FIN            NaN   \n",
              "freq              NaN            NaN  123041  141321  117164            NaN   \n",
              "mean     72811.823858       1.246715     NaN     NaN     NaN      19.777144   \n",
              "std      48929.917641       5.974305     NaN     NaN     NaN     135.947152   \n",
              "min          1.000000       0.000000     NaN     NaN     NaN       1.000000   \n",
              "25%      32210.000000       0.000008     NaN     NaN     NaN       2.000000   \n",
              "50%      64419.000000       0.004285     NaN     NaN     NaN       4.000000   \n",
              "75%     110923.000000       0.685777     NaN     NaN     NaN      12.000000   \n",
              "max     175341.000000      59.999989     NaN     NaN     NaN   10646.000000   \n",
              "\n",
              "                dpkts        sbytes        dbytes          rate  ...  \\\n",
              "count   257673.000000  2.576730e+05  2.576730e+05  2.576730e+05  ...   \n",
              "unique            NaN           NaN           NaN           NaN  ...   \n",
              "top               NaN           NaN           NaN           NaN  ...   \n",
              "freq              NaN           NaN           NaN           NaN  ...   \n",
              "mean        18.514703  8.572952e+03  1.438729e+04  9.125391e+04  ...   \n",
              "std        111.985965  1.737739e+05  1.461993e+05  1.603446e+05  ...   \n",
              "min          0.000000  2.400000e+01  0.000000e+00  0.000000e+00  ...   \n",
              "25%          0.000000  1.140000e+02  0.000000e+00  3.078928e+01  ...   \n",
              "50%          2.000000  5.280000e+02  1.780000e+02  2.955665e+03  ...   \n",
              "75%         10.000000  1.362000e+03  1.064000e+03  1.250000e+05  ...   \n",
              "max      11018.000000  1.435577e+07  1.465753e+07  1.000000e+06  ...   \n",
              "\n",
              "        ct_dst_sport_ltm  ct_dst_src_ltm   is_ftp_login     ct_ftp_cmd  \\\n",
              "count      257673.000000   257673.000000  257673.000000  257673.000000   \n",
              "unique               NaN             NaN            NaN            NaN   \n",
              "top                  NaN             NaN            NaN            NaN   \n",
              "freq                 NaN             NaN            NaN            NaN   \n",
              "mean            4.032677        8.322964       0.012819       0.012850   \n",
              "std             5.831515       11.120754       0.116091       0.116421   \n",
              "min             1.000000        1.000000       0.000000       0.000000   \n",
              "25%             1.000000        1.000000       0.000000       0.000000   \n",
              "50%             1.000000        3.000000       0.000000       0.000000   \n",
              "75%             3.000000        8.000000       0.000000       0.000000   \n",
              "max            46.000000       65.000000       4.000000       4.000000   \n",
              "\n",
              "        ct_flw_http_mthd     ct_src_ltm     ct_srv_dst  is_sm_ips_ports  \\\n",
              "count      257673.000000  257673.000000  257673.000000    257673.000000   \n",
              "unique               NaN            NaN            NaN              NaN   \n",
              "top                  NaN            NaN            NaN              NaN   \n",
              "freq                 NaN            NaN            NaN              NaN   \n",
              "mean            0.132005       6.800045       9.121049         0.014274   \n",
              "std             0.681854       8.396266      10.874752         0.118618   \n",
              "min             0.000000       1.000000       1.000000         0.000000   \n",
              "25%             0.000000       2.000000       2.000000         0.000000   \n",
              "50%             0.000000       3.000000       4.000000         0.000000   \n",
              "75%             0.000000       8.000000      11.000000         0.000000   \n",
              "max            30.000000      60.000000      62.000000         1.000000   \n",
              "\n",
              "        attack_cat          label  \n",
              "count       257673  257673.000000  \n",
              "unique          10            NaN  \n",
              "top         Normal            NaN  \n",
              "freq         93000            NaN  \n",
              "mean           NaN       0.639077  \n",
              "std            NaN       0.480269  \n",
              "min            NaN       0.000000  \n",
              "25%            NaN       0.000000  \n",
              "50%            NaN       1.000000  \n",
              "75%            NaN       1.000000  \n",
              "max            NaN       1.000000  \n",
              "\n",
              "[11 rows x 45 columns]"
            ]
          },
          "execution_count": 8,
          "metadata": {},
          "output_type": "execute_result"
        }
      ],
      "source": [
        "df.describe(include=\"all\")"
      ]
    },
    {
      "cell_type": "code",
      "execution_count": null,
      "metadata": {
        "colab": {
          "base_uri": "https://localhost:8080/",
          "height": 299
        },
        "id": "qcHb423uhhVd",
        "outputId": "9a0375b9-046a-4922-a9c3-4d9b8031c70c"
      },
      "outputs": [
        {
          "data": {
            "text/html": [
              "\n",
              "  <div id=\"df-06aae6ae-ca6b-4660-8718-8aa14af02e8a\">\n",
              "    <div class=\"colab-df-container\">\n",
              "      <div>\n",
              "<style scoped>\n",
              "    .dataframe tbody tr th:only-of-type {\n",
              "        vertical-align: middle;\n",
              "    }\n",
              "\n",
              "    .dataframe tbody tr th {\n",
              "        vertical-align: top;\n",
              "    }\n",
              "\n",
              "    .dataframe thead th {\n",
              "        text-align: right;\n",
              "    }\n",
              "</style>\n",
              "<table border=\"1\" class=\"dataframe\">\n",
              "  <thead>\n",
              "    <tr style=\"text-align: right;\">\n",
              "      <th></th>\n",
              "      <th>id</th>\n",
              "      <th>dur</th>\n",
              "      <th>proto</th>\n",
              "      <th>service</th>\n",
              "      <th>state</th>\n",
              "      <th>spkts</th>\n",
              "      <th>dpkts</th>\n",
              "      <th>sbytes</th>\n",
              "      <th>dbytes</th>\n",
              "      <th>rate</th>\n",
              "      <th>...</th>\n",
              "      <th>ct_dst_sport_ltm</th>\n",
              "      <th>ct_dst_src_ltm</th>\n",
              "      <th>is_ftp_login</th>\n",
              "      <th>ct_ftp_cmd</th>\n",
              "      <th>ct_flw_http_mthd</th>\n",
              "      <th>ct_src_ltm</th>\n",
              "      <th>ct_srv_dst</th>\n",
              "      <th>is_sm_ips_ports</th>\n",
              "      <th>attack_cat</th>\n",
              "      <th>label</th>\n",
              "    </tr>\n",
              "  </thead>\n",
              "  <tbody>\n",
              "    <tr>\n",
              "      <th>0</th>\n",
              "      <td>1</td>\n",
              "      <td>0.000011</td>\n",
              "      <td>udp</td>\n",
              "      <td>-</td>\n",
              "      <td>INT</td>\n",
              "      <td>2</td>\n",
              "      <td>0</td>\n",
              "      <td>496</td>\n",
              "      <td>0</td>\n",
              "      <td>90909.0902</td>\n",
              "      <td>...</td>\n",
              "      <td>1</td>\n",
              "      <td>2</td>\n",
              "      <td>0</td>\n",
              "      <td>0</td>\n",
              "      <td>0</td>\n",
              "      <td>1</td>\n",
              "      <td>2</td>\n",
              "      <td>0</td>\n",
              "      <td>Normal</td>\n",
              "      <td>0</td>\n",
              "    </tr>\n",
              "    <tr>\n",
              "      <th>1</th>\n",
              "      <td>2</td>\n",
              "      <td>0.000008</td>\n",
              "      <td>udp</td>\n",
              "      <td>-</td>\n",
              "      <td>INT</td>\n",
              "      <td>2</td>\n",
              "      <td>0</td>\n",
              "      <td>1762</td>\n",
              "      <td>0</td>\n",
              "      <td>125000.0003</td>\n",
              "      <td>...</td>\n",
              "      <td>1</td>\n",
              "      <td>2</td>\n",
              "      <td>0</td>\n",
              "      <td>0</td>\n",
              "      <td>0</td>\n",
              "      <td>1</td>\n",
              "      <td>2</td>\n",
              "      <td>0</td>\n",
              "      <td>Normal</td>\n",
              "      <td>0</td>\n",
              "    </tr>\n",
              "    <tr>\n",
              "      <th>2</th>\n",
              "      <td>3</td>\n",
              "      <td>0.000005</td>\n",
              "      <td>udp</td>\n",
              "      <td>-</td>\n",
              "      <td>INT</td>\n",
              "      <td>2</td>\n",
              "      <td>0</td>\n",
              "      <td>1068</td>\n",
              "      <td>0</td>\n",
              "      <td>200000.0051</td>\n",
              "      <td>...</td>\n",
              "      <td>1</td>\n",
              "      <td>3</td>\n",
              "      <td>0</td>\n",
              "      <td>0</td>\n",
              "      <td>0</td>\n",
              "      <td>1</td>\n",
              "      <td>3</td>\n",
              "      <td>0</td>\n",
              "      <td>Normal</td>\n",
              "      <td>0</td>\n",
              "    </tr>\n",
              "    <tr>\n",
              "      <th>3</th>\n",
              "      <td>4</td>\n",
              "      <td>0.000006</td>\n",
              "      <td>udp</td>\n",
              "      <td>-</td>\n",
              "      <td>INT</td>\n",
              "      <td>2</td>\n",
              "      <td>0</td>\n",
              "      <td>900</td>\n",
              "      <td>0</td>\n",
              "      <td>166666.6608</td>\n",
              "      <td>...</td>\n",
              "      <td>1</td>\n",
              "      <td>3</td>\n",
              "      <td>0</td>\n",
              "      <td>0</td>\n",
              "      <td>0</td>\n",
              "      <td>2</td>\n",
              "      <td>3</td>\n",
              "      <td>0</td>\n",
              "      <td>Normal</td>\n",
              "      <td>0</td>\n",
              "    </tr>\n",
              "    <tr>\n",
              "      <th>4</th>\n",
              "      <td>5</td>\n",
              "      <td>0.000010</td>\n",
              "      <td>udp</td>\n",
              "      <td>-</td>\n",
              "      <td>INT</td>\n",
              "      <td>2</td>\n",
              "      <td>0</td>\n",
              "      <td>2126</td>\n",
              "      <td>0</td>\n",
              "      <td>100000.0025</td>\n",
              "      <td>...</td>\n",
              "      <td>1</td>\n",
              "      <td>3</td>\n",
              "      <td>0</td>\n",
              "      <td>0</td>\n",
              "      <td>0</td>\n",
              "      <td>2</td>\n",
              "      <td>3</td>\n",
              "      <td>0</td>\n",
              "      <td>Normal</td>\n",
              "      <td>0</td>\n",
              "    </tr>\n",
              "  </tbody>\n",
              "</table>\n",
              "<p>5 rows × 45 columns</p>\n",
              "</div>\n",
              "      <button class=\"colab-df-convert\" onclick=\"convertToInteractive('df-06aae6ae-ca6b-4660-8718-8aa14af02e8a')\"\n",
              "              title=\"Convert this dataframe to an interactive table.\"\n",
              "              style=\"display:none;\">\n",
              "        \n",
              "  <svg xmlns=\"http://www.w3.org/2000/svg\" height=\"24px\"viewBox=\"0 0 24 24\"\n",
              "       width=\"24px\">\n",
              "    <path d=\"M0 0h24v24H0V0z\" fill=\"none\"/>\n",
              "    <path d=\"M18.56 5.44l.94 2.06.94-2.06 2.06-.94-2.06-.94-.94-2.06-.94 2.06-2.06.94zm-11 1L8.5 8.5l.94-2.06 2.06-.94-2.06-.94L8.5 2.5l-.94 2.06-2.06.94zm10 10l.94 2.06.94-2.06 2.06-.94-2.06-.94-.94-2.06-.94 2.06-2.06.94z\"/><path d=\"M17.41 7.96l-1.37-1.37c-.4-.4-.92-.59-1.43-.59-.52 0-1.04.2-1.43.59L10.3 9.45l-7.72 7.72c-.78.78-.78 2.05 0 2.83L4 21.41c.39.39.9.59 1.41.59.51 0 1.02-.2 1.41-.59l7.78-7.78 2.81-2.81c.8-.78.8-2.07 0-2.86zM5.41 20L4 18.59l7.72-7.72 1.47 1.35L5.41 20z\"/>\n",
              "  </svg>\n",
              "      </button>\n",
              "      \n",
              "  <style>\n",
              "    .colab-df-container {\n",
              "      display:flex;\n",
              "      flex-wrap:wrap;\n",
              "      gap: 12px;\n",
              "    }\n",
              "\n",
              "    .colab-df-convert {\n",
              "      background-color: #E8F0FE;\n",
              "      border: none;\n",
              "      border-radius: 50%;\n",
              "      cursor: pointer;\n",
              "      display: none;\n",
              "      fill: #1967D2;\n",
              "      height: 32px;\n",
              "      padding: 0 0 0 0;\n",
              "      width: 32px;\n",
              "    }\n",
              "\n",
              "    .colab-df-convert:hover {\n",
              "      background-color: #E2EBFA;\n",
              "      box-shadow: 0px 1px 2px rgba(60, 64, 67, 0.3), 0px 1px 3px 1px rgba(60, 64, 67, 0.15);\n",
              "      fill: #174EA6;\n",
              "    }\n",
              "\n",
              "    [theme=dark] .colab-df-convert {\n",
              "      background-color: #3B4455;\n",
              "      fill: #D2E3FC;\n",
              "    }\n",
              "\n",
              "    [theme=dark] .colab-df-convert:hover {\n",
              "      background-color: #434B5C;\n",
              "      box-shadow: 0px 1px 3px 1px rgba(0, 0, 0, 0.15);\n",
              "      filter: drop-shadow(0px 1px 2px rgba(0, 0, 0, 0.3));\n",
              "      fill: #FFFFFF;\n",
              "    }\n",
              "  </style>\n",
              "\n",
              "      <script>\n",
              "        const buttonEl =\n",
              "          document.querySelector('#df-06aae6ae-ca6b-4660-8718-8aa14af02e8a button.colab-df-convert');\n",
              "        buttonEl.style.display =\n",
              "          google.colab.kernel.accessAllowed ? 'block' : 'none';\n",
              "\n",
              "        async function convertToInteractive(key) {\n",
              "          const element = document.querySelector('#df-06aae6ae-ca6b-4660-8718-8aa14af02e8a');\n",
              "          const dataTable =\n",
              "            await google.colab.kernel.invokeFunction('convertToInteractive',\n",
              "                                                     [key], {});\n",
              "          if (!dataTable) return;\n",
              "\n",
              "          const docLinkHtml = 'Like what you see? Visit the ' +\n",
              "            '<a target=\"_blank\" href=https://colab.research.google.com/notebooks/data_table.ipynb>data table notebook</a>'\n",
              "            + ' to learn more about interactive tables.';\n",
              "          element.innerHTML = '';\n",
              "          dataTable['output_type'] = 'display_data';\n",
              "          await google.colab.output.renderOutput(dataTable, element);\n",
              "          const docLink = document.createElement('div');\n",
              "          docLink.innerHTML = docLinkHtml;\n",
              "          element.appendChild(docLink);\n",
              "        }\n",
              "      </script>\n",
              "    </div>\n",
              "  </div>\n",
              "  "
            ],
            "text/plain": [
              "   id       dur proto service state  spkts  dpkts  sbytes  dbytes  \\\n",
              "0   1  0.000011   udp       -   INT      2      0     496       0   \n",
              "1   2  0.000008   udp       -   INT      2      0    1762       0   \n",
              "2   3  0.000005   udp       -   INT      2      0    1068       0   \n",
              "3   4  0.000006   udp       -   INT      2      0     900       0   \n",
              "4   5  0.000010   udp       -   INT      2      0    2126       0   \n",
              "\n",
              "          rate  ...  ct_dst_sport_ltm  ct_dst_src_ltm  is_ftp_login  \\\n",
              "0   90909.0902  ...                 1               2             0   \n",
              "1  125000.0003  ...                 1               2             0   \n",
              "2  200000.0051  ...                 1               3             0   \n",
              "3  166666.6608  ...                 1               3             0   \n",
              "4  100000.0025  ...                 1               3             0   \n",
              "\n",
              "   ct_ftp_cmd  ct_flw_http_mthd  ct_src_ltm  ct_srv_dst  is_sm_ips_ports  \\\n",
              "0           0                 0           1           2                0   \n",
              "1           0                 0           1           2                0   \n",
              "2           0                 0           1           3                0   \n",
              "3           0                 0           2           3                0   \n",
              "4           0                 0           2           3                0   \n",
              "\n",
              "   attack_cat  label  \n",
              "0      Normal      0  \n",
              "1      Normal      0  \n",
              "2      Normal      0  \n",
              "3      Normal      0  \n",
              "4      Normal      0  \n",
              "\n",
              "[5 rows x 45 columns]"
            ]
          },
          "execution_count": 9,
          "metadata": {},
          "output_type": "execute_result"
        }
      ],
      "source": [
        "df.head()"
      ]
    },
    {
      "cell_type": "markdown",
      "metadata": {
        "id": "gU6rcFLdhoBr"
      },
      "source": [
        "Validation to check Duplicates"
      ]
    },
    {
      "cell_type": "code",
      "execution_count": null,
      "metadata": {
        "colab": {
          "base_uri": "https://localhost:8080/"
        },
        "id": "IRgJSbEJiBUJ",
        "outputId": "b6f0dd69-95dc-4bc0-af67-71d5fc1df5d9"
      },
      "outputs": [
        {
          "name": "stdout",
          "output_type": "stream",
          "text": [
            "0\n"
          ]
        }
      ],
      "source": [
        "print(df.duplicated().sum())"
      ]
    },
    {
      "cell_type": "markdown",
      "metadata": {
        "id": "QVj99YoPiN8p"
      },
      "source": [
        "Examining missing values"
      ]
    },
    {
      "cell_type": "code",
      "execution_count": null,
      "metadata": {
        "colab": {
          "base_uri": "https://localhost:8080/"
        },
        "id": "IoFxBrXZiD_5",
        "outputId": "9297161c-05c8-46ab-eeac-5167d124d6e7"
      },
      "outputs": [
        {
          "name": "stdout",
          "output_type": "stream",
          "text": [
            "id                   0\n",
            "dur                  0\n",
            "proto                0\n",
            "service              0\n",
            "state                0\n",
            "spkts                0\n",
            "dpkts                0\n",
            "sbytes               0\n",
            "dbytes               0\n",
            "rate                 0\n",
            "sttl                 0\n",
            "dttl                 0\n",
            "sload                0\n",
            "dload                0\n",
            "sloss                0\n",
            "dloss                0\n",
            "sinpkt               0\n",
            "dinpkt               0\n",
            "sjit                 0\n",
            "djit                 0\n",
            "swin                 0\n",
            "stcpb                0\n",
            "dtcpb                0\n",
            "dwin                 0\n",
            "tcprtt               0\n",
            "synack               0\n",
            "ackdat               0\n",
            "smean                0\n",
            "dmean                0\n",
            "trans_depth          0\n",
            "response_body_len    0\n",
            "ct_srv_src           0\n",
            "ct_state_ttl         0\n",
            "ct_dst_ltm           0\n",
            "ct_src_dport_ltm     0\n",
            "ct_dst_sport_ltm     0\n",
            "ct_dst_src_ltm       0\n",
            "is_ftp_login         0\n",
            "ct_ftp_cmd           0\n",
            "ct_flw_http_mthd     0\n",
            "ct_src_ltm           0\n",
            "ct_srv_dst           0\n",
            "is_sm_ips_ports      0\n",
            "attack_cat           0\n",
            "label                0\n",
            "dtype: int64\n"
          ]
        }
      ],
      "source": [
        "print(df.isna().sum())"
      ]
    },
    {
      "cell_type": "markdown",
      "metadata": {
        "id": "AiqslqiViTtq"
      },
      "source": [
        "NO missing values detected"
      ]
    },
    {
      "cell_type": "markdown",
      "metadata": {
        "id": "FITL9Iy3i7Nv"
      },
      "source": [
        "# Evaluating the balance between attack and innocuous data"
      ]
    },
    {
      "cell_type": "code",
      "execution_count": null,
      "metadata": {
        "colab": {
          "base_uri": "https://localhost:8080/",
          "height": 443
        },
        "id": "IZunMBdYiSax",
        "outputId": "bd45b47f-7b91-4295-8aff-456814c30d1b"
      },
      "outputs": [
        {
          "data": {
            "text/plain": [
              "<Axes: >"
            ]
          },
          "execution_count": 12,
          "metadata": {},
          "output_type": "execute_result"
        },
        {
          "data": {
            "image/png": "[encoded data removed]",
            "text/plain": [
              "<Figure size 640x480 with 1 Axes>"
            ]
          },
          "metadata": {},
          "output_type": "display_data"
        }
      ],
      "source": [
        "df['label'].value_counts().plot.bar()"
      ]
    },
    {
      "cell_type": "code",
      "execution_count": null,
      "metadata": {
        "colab": {
          "base_uri": "https://localhost:8080/"
        },
        "id": "33bqNwh3isAF",
        "outputId": "e6f959e6-e3a4-4e71-b89c-75b2fa7db288"
      },
      "outputs": [
        {
          "data": {
            "text/plain": [
              "1    0.639077\n",
              "0    0.360923\n",
              "Name: label, dtype: float64"
            ]
          },
          "execution_count": 13,
          "metadata": {},
          "output_type": "execute_result"
        }
      ],
      "source": [
        "df['label'].value_counts(normalize=True)"
      ]
    },
    {
      "cell_type": "markdown",
      "metadata": {
        "id": "EYOF2cR-jfZo"
      },
      "source": [
        "Attack to normal data ratio is not exactly balanced; it is somewhat off. Therefore, we won't perform a sampling repair in this case."
      ]
    },
    {
      "cell_type": "markdown",
      "metadata": {
        "id": "LnWzc7nnj268"
      },
      "source": [
        "## Enhancement engineering\n"
      ]
    },
    {
      "cell_type": "markdown",
      "metadata": {
        "id": "a7t0T5h-kDP6"
      },
      "source": [
        "Elimination of irrelevant characteristics\n"
      ]
    },
    {
      "cell_type": "markdown",
      "metadata": {
        "id": "BwJDHXegkdlU"
      },
      "source": [
        "Id will be the first column we remove. This column can be removed because it is just used for identification.\n",
        "\n",
        "We just utilize column label to classify attack (1) or normal (0) because this is a binary classification problem. Therefore, attack_cat does not require attack details.\n"
      ]
    },
    {
      "cell_type": "code",
      "execution_count": null,
      "metadata": {
        "id": "MBp2n1aRivMo"
      },
      "outputs": [],
      "source": [
        "df = df.drop(columns=['id', 'attack_cat'])"
      ]
    },
    {
      "cell_type": "markdown",
      "metadata": {
        "id": "dQWu9NKnkmH6"
      },
      "source": [
        "# Encoding Categorical Features"
      ]
    },
    {
      "cell_type": "code",
      "execution_count": null,
      "metadata": {
        "colab": {
          "base_uri": "https://localhost:8080/"
        },
        "id": "UTc7-L-XkiXj",
        "outputId": "07e4dd51-d3a8-4a65-9c7e-ce7cdf6b7c25"
      },
      "outputs": [
        {
          "name": "stdout",
          "output_type": "stream",
          "text": [
            "Index(['proto', 'service', 'state'], dtype='object')\n"
          ]
        }
      ],
      "source": [
        "df_cat = df.select_dtypes(exclude=[np.number])\n",
        "print(df_cat.columns)\n",
        "for feature in df_cat.columns:\n",
        "    df[feature] = LabelEncoder().fit_transform(df[feature])"
      ]
    },
    {
      "cell_type": "code",
      "execution_count": null,
      "metadata": {
        "colab": {
          "base_uri": "https://localhost:8080/",
          "height": 299
        },
        "id": "UDKCNMIdk2M0",
        "outputId": "95ece9a5-2e1a-4cda-e55d-d26e42330454"
      },
      "outputs": [
        {
          "data": {
            "text/html": [
              "\n",
              "  <div id=\"df-7b87c225-5a58-43c1-bdb8-9125b76ca214\">\n",
              "    <div class=\"colab-df-container\">\n",
              "      <div>\n",
              "<style scoped>\n",
              "    .dataframe tbody tr th:only-of-type {\n",
              "        vertical-align: middle;\n",
              "    }\n",
              "\n",
              "    .dataframe tbody tr th {\n",
              "        vertical-align: top;\n",
              "    }\n",
              "\n",
              "    .dataframe thead th {\n",
              "        text-align: right;\n",
              "    }\n",
              "</style>\n",
              "<table border=\"1\" class=\"dataframe\">\n",
              "  <thead>\n",
              "    <tr style=\"text-align: right;\">\n",
              "      <th></th>\n",
              "      <th>dur</th>\n",
              "      <th>proto</th>\n",
              "      <th>service</th>\n",
              "      <th>state</th>\n",
              "      <th>spkts</th>\n",
              "      <th>dpkts</th>\n",
              "      <th>sbytes</th>\n",
              "      <th>dbytes</th>\n",
              "      <th>rate</th>\n",
              "      <th>sttl</th>\n",
              "      <th>...</th>\n",
              "      <th>ct_src_dport_ltm</th>\n",
              "      <th>ct_dst_sport_ltm</th>\n",
              "      <th>ct_dst_src_ltm</th>\n",
              "      <th>is_ftp_login</th>\n",
              "      <th>ct_ftp_cmd</th>\n",
              "      <th>ct_flw_http_mthd</th>\n",
              "      <th>ct_src_ltm</th>\n",
              "      <th>ct_srv_dst</th>\n",
              "      <th>is_sm_ips_ports</th>\n",
              "      <th>label</th>\n",
              "    </tr>\n",
              "  </thead>\n",
              "  <tbody>\n",
              "    <tr>\n",
              "      <th>0</th>\n",
              "      <td>0.000011</td>\n",
              "      <td>119</td>\n",
              "      <td>0</td>\n",
              "      <td>5</td>\n",
              "      <td>2</td>\n",
              "      <td>0</td>\n",
              "      <td>496</td>\n",
              "      <td>0</td>\n",
              "      <td>90909.0902</td>\n",
              "      <td>254</td>\n",
              "      <td>...</td>\n",
              "      <td>1</td>\n",
              "      <td>1</td>\n",
              "      <td>2</td>\n",
              "      <td>0</td>\n",
              "      <td>0</td>\n",
              "      <td>0</td>\n",
              "      <td>1</td>\n",
              "      <td>2</td>\n",
              "      <td>0</td>\n",
              "      <td>0</td>\n",
              "    </tr>\n",
              "    <tr>\n",
              "      <th>1</th>\n",
              "      <td>0.000008</td>\n",
              "      <td>119</td>\n",
              "      <td>0</td>\n",
              "      <td>5</td>\n",
              "      <td>2</td>\n",
              "      <td>0</td>\n",
              "      <td>1762</td>\n",
              "      <td>0</td>\n",
              "      <td>125000.0003</td>\n",
              "      <td>254</td>\n",
              "      <td>...</td>\n",
              "      <td>1</td>\n",
              "      <td>1</td>\n",
              "      <td>2</td>\n",
              "      <td>0</td>\n",
              "      <td>0</td>\n",
              "      <td>0</td>\n",
              "      <td>1</td>\n",
              "      <td>2</td>\n",
              "      <td>0</td>\n",
              "      <td>0</td>\n",
              "    </tr>\n",
              "    <tr>\n",
              "      <th>2</th>\n",
              "      <td>0.000005</td>\n",
              "      <td>119</td>\n",
              "      <td>0</td>\n",
              "      <td>5</td>\n",
              "      <td>2</td>\n",
              "      <td>0</td>\n",
              "      <td>1068</td>\n",
              "      <td>0</td>\n",
              "      <td>200000.0051</td>\n",
              "      <td>254</td>\n",
              "      <td>...</td>\n",
              "      <td>1</td>\n",
              "      <td>1</td>\n",
              "      <td>3</td>\n",
              "      <td>0</td>\n",
              "      <td>0</td>\n",
              "      <td>0</td>\n",
              "      <td>1</td>\n",
              "      <td>3</td>\n",
              "      <td>0</td>\n",
              "      <td>0</td>\n",
              "    </tr>\n",
              "    <tr>\n",
              "      <th>3</th>\n",
              "      <td>0.000006</td>\n",
              "      <td>119</td>\n",
              "      <td>0</td>\n",
              "      <td>5</td>\n",
              "      <td>2</td>\n",
              "      <td>0</td>\n",
              "      <td>900</td>\n",
              "      <td>0</td>\n",
              "      <td>166666.6608</td>\n",
              "      <td>254</td>\n",
              "      <td>...</td>\n",
              "      <td>2</td>\n",
              "      <td>1</td>\n",
              "      <td>3</td>\n",
              "      <td>0</td>\n",
              "      <td>0</td>\n",
              "      <td>0</td>\n",
              "      <td>2</td>\n",
              "      <td>3</td>\n",
              "      <td>0</td>\n",
              "      <td>0</td>\n",
              "    </tr>\n",
              "    <tr>\n",
              "      <th>4</th>\n",
              "      <td>0.000010</td>\n",
              "      <td>119</td>\n",
              "      <td>0</td>\n",
              "      <td>5</td>\n",
              "      <td>2</td>\n",
              "      <td>0</td>\n",
              "      <td>2126</td>\n",
              "      <td>0</td>\n",
              "      <td>100000.0025</td>\n",
              "      <td>254</td>\n",
              "      <td>...</td>\n",
              "      <td>2</td>\n",
              "      <td>1</td>\n",
              "      <td>3</td>\n",
              "      <td>0</td>\n",
              "      <td>0</td>\n",
              "      <td>0</td>\n",
              "      <td>2</td>\n",
              "      <td>3</td>\n",
              "      <td>0</td>\n",
              "      <td>0</td>\n",
              "    </tr>\n",
              "  </tbody>\n",
              "</table>\n",
              "<p>5 rows × 43 columns</p>\n",
              "</div>\n",
              "      <button class=\"colab-df-convert\" onclick=\"convertToInteractive('df-7b87c225-5a58-43c1-bdb8-9125b76ca214')\"\n",
              "              title=\"Convert this dataframe to an interactive table.\"\n",
              "              style=\"display:none;\">\n",
              "        \n",
              "  <svg xmlns=\"http://www.w3.org/2000/svg\" height=\"24px\"viewBox=\"0 0 24 24\"\n",
              "       width=\"24px\">\n",
              "    <path d=\"M0 0h24v24H0V0z\" fill=\"none\"/>\n",
              "    <path d=\"M18.56 5.44l.94 2.06.94-2.06 2.06-.94-2.06-.94-.94-2.06-.94 2.06-2.06.94zm-11 1L8.5 8.5l.94-2.06 2.06-.94-2.06-.94L8.5 2.5l-.94 2.06-2.06.94zm10 10l.94 2.06.94-2.06 2.06-.94-2.06-.94-.94-2.06-.94 2.06-2.06.94z\"/><path d=\"M17.41 7.96l-1.37-1.37c-.4-.4-.92-.59-1.43-.59-.52 0-1.04.2-1.43.59L10.3 9.45l-7.72 7.72c-.78.78-.78 2.05 0 2.83L4 21.41c.39.39.9.59 1.41.59.51 0 1.02-.2 1.41-.59l7.78-7.78 2.81-2.81c.8-.78.8-2.07 0-2.86zM5.41 20L4 18.59l7.72-7.72 1.47 1.35L5.41 20z\"/>\n",
              "  </svg>\n",
              "      </button>\n",
              "      \n",
              "  <style>\n",
              "    .colab-df-container {\n",
              "      display:flex;\n",
              "      flex-wrap:wrap;\n",
              "      gap: 12px;\n",
              "    }\n",
              "\n",
              "    .colab-df-convert {\n",
              "      background-color: #E8F0FE;\n",
              "      border: none;\n",
              "      border-radius: 50%;\n",
              "      cursor: pointer;\n",
              "      display: none;\n",
              "      fill: #1967D2;\n",
              "      height: 32px;\n",
              "      padding: 0 0 0 0;\n",
              "      width: 32px;\n",
              "    }\n",
              "\n",
              "    .colab-df-convert:hover {\n",
              "      background-color: #E2EBFA;\n",
              "      box-shadow: 0px 1px 2px rgba(60, 64, 67, 0.3), 0px 1px 3px 1px rgba(60, 64, 67, 0.15);\n",
              "      fill: #174EA6;\n",
              "    }\n",
              "\n",
              "    [theme=dark] .colab-df-convert {\n",
              "      background-color: #3B4455;\n",
              "      fill: #D2E3FC;\n",
              "    }\n",
              "\n",
              "    [theme=dark] .colab-df-convert:hover {\n",
              "      background-color: #434B5C;\n",
              "      box-shadow: 0px 1px 3px 1px rgba(0, 0, 0, 0.15);\n",
              "      filter: drop-shadow(0px 1px 2px rgba(0, 0, 0, 0.3));\n",
              "      fill: #FFFFFF;\n",
              "    }\n",
              "  </style>\n",
              "\n",
              "      <script>\n",
              "        const buttonEl =\n",
              "          document.querySelector('#df-7b87c225-5a58-43c1-bdb8-9125b76ca214 button.colab-df-convert');\n",
              "        buttonEl.style.display =\n",
              "          google.colab.kernel.accessAllowed ? 'block' : 'none';\n",
              "\n",
              "        async function convertToInteractive(key) {\n",
              "          const element = document.querySelector('#df-7b87c225-5a58-43c1-bdb8-9125b76ca214');\n",
              "          const dataTable =\n",
              "            await google.colab.kernel.invokeFunction('convertToInteractive',\n",
              "                                                     [key], {});\n",
              "          if (!dataTable) return;\n",
              "\n",
              "          const docLinkHtml = 'Like what you see? Visit the ' +\n",
              "            '<a target=\"_blank\" href=https://colab.research.google.com/notebooks/data_table.ipynb>data table notebook</a>'\n",
              "            + ' to learn more about interactive tables.';\n",
              "          element.innerHTML = '';\n",
              "          dataTable['output_type'] = 'display_data';\n",
              "          await google.colab.output.renderOutput(dataTable, element);\n",
              "          const docLink = document.createElement('div');\n",
              "          docLink.innerHTML = docLinkHtml;\n",
              "          element.appendChild(docLink);\n",
              "        }\n",
              "      </script>\n",
              "    </div>\n",
              "  </div>\n",
              "  "
            ],
            "text/plain": [
              "        dur  proto  service  state  spkts  dpkts  sbytes  dbytes         rate  \\\n",
              "0  0.000011    119        0      5      2      0     496       0   90909.0902   \n",
              "1  0.000008    119        0      5      2      0    1762       0  125000.0003   \n",
              "2  0.000005    119        0      5      2      0    1068       0  200000.0051   \n",
              "3  0.000006    119        0      5      2      0     900       0  166666.6608   \n",
              "4  0.000010    119        0      5      2      0    2126       0  100000.0025   \n",
              "\n",
              "   sttl  ...  ct_src_dport_ltm  ct_dst_sport_ltm  ct_dst_src_ltm  \\\n",
              "0   254  ...                 1                 1               2   \n",
              "1   254  ...                 1                 1               2   \n",
              "2   254  ...                 1                 1               3   \n",
              "3   254  ...                 2                 1               3   \n",
              "4   254  ...                 2                 1               3   \n",
              "\n",
              "   is_ftp_login  ct_ftp_cmd  ct_flw_http_mthd  ct_src_ltm  ct_srv_dst  \\\n",
              "0             0           0                 0           1           2   \n",
              "1             0           0                 0           1           2   \n",
              "2             0           0                 0           1           3   \n",
              "3             0           0                 0           2           3   \n",
              "4             0           0                 0           2           3   \n",
              "\n",
              "   is_sm_ips_ports  label  \n",
              "0                0      0  \n",
              "1                0      0  \n",
              "2                0      0  \n",
              "3                0      0  \n",
              "4                0      0  \n",
              "\n",
              "[5 rows x 43 columns]"
            ]
          },
          "execution_count": 16,
          "metadata": {},
          "output_type": "execute_result"
        }
      ],
      "source": [
        "df.head()"
      ]
    },
    {
      "cell_type": "markdown",
      "metadata": {
        "id": "yUMbKGnBlKIR"
      },
      "source": [
        "Data Correlation"
      ]
    },
    {
      "cell_type": "code",
      "execution_count": null,
      "metadata": {
        "colab": {
          "base_uri": "https://localhost:8080/",
          "height": 541
        },
        "id": "_UvbtkUfk4WK",
        "outputId": "e6ed938d-01f3-49c1-c8d0-d2abfecf2b8f"
      },
      "outputs": [
        {
          "data": {
            "image/png": "[encoded data removed]",
            "text/plain": [
              "<Figure size 640x480 with 2 Axes>"
            ]
          },
          "metadata": {},
          "output_type": "display_data"
        }
      ],
      "source": [
        "sns.heatmap(df.corr())\n",
        "plt.show()"
      ]
    },
    {
      "cell_type": "code",
      "execution_count": null,
      "metadata": {
        "colab": {
          "base_uri": "https://localhost:8080/"
        },
        "id": "stuytAUBlOdK",
        "outputId": "ede6fd79-7f88-44ad-f830-8fcd657d2541"
      },
      "outputs": [
        {
          "name": "stdout",
          "output_type": "stream",
          "text": [
            "sbytes sloss 0.995771577240686\n",
            "dbytes dloss 0.9967111338314709\n",
            "swin dwin 0.9804584289136614\n",
            "is_ftp_login ct_ftp_cmd 0.9988554882935945\n"
          ]
        }
      ],
      "source": [
        "columns = df.columns.tolist()\n",
        "corr = df.corr()\n",
        "correlated_vars = []\n",
        "for i in range(len(columns) - 1):\n",
        "    for j in range(i+1, len(columns)):\n",
        "        if corr[columns[i]][columns[j]] > 0.98:\n",
        "            print(columns[i], columns[j], corr[columns[i]][columns[j]])\n",
        "            correlated_vars.append(columns[j])"
      ]
    },
    {
      "cell_type": "code",
      "execution_count": null,
      "metadata": {
        "id": "mAXvqh4dlRdi"
      },
      "outputs": [],
      "source": [
        "df = df.drop(columns=correlated_vars)"
      ]
    },
    {
      "cell_type": "markdown",
      "metadata": {
        "id": "b6Ey4WVblanZ"
      },
      "source": [
        "Splitting training and testing sets"
      ]
    },
    {
      "cell_type": "code",
      "execution_count": null,
      "metadata": {
        "id": "ox-HtkW6lUhp"
      },
      "outputs": [],
      "source": [
        "X = df.drop(columns=['label'])\n",
        "feature_list = list(X.columns)\n",
        "X = np.array(X)\n",
        "y = df['label']\n",
        "X_train, X_test, y_train, y_test = train_test_split(X, y, test_size = 0.3)"
      ]
    },
    {
      "cell_type": "code",
      "execution_count": null,
      "metadata": {
        "colab": {
          "base_uri": "https://localhost:8080/"
        },
        "id": "rvaos0g4ldnh",
        "outputId": "d1aec1d4-7a41-44f6-8ede-aa1e2e0ca5a6"
      },
      "outputs": [
        {
          "name": "stdout",
          "output_type": "stream",
          "text": [
            "Training set: 180371\n",
            "Testing set: 77302\n"
          ]
        }
      ],
      "source": [
        "print(\"Training set:\", len(X_train))\n",
        "print(\"Testing set:\", len(X_test))"
      ]
    },
    {
      "cell_type": "markdown",
      "metadata": {
        "id": "veoR9go-lfqS"
      },
      "source": [
        "Scaling"
      ]
    },
    {
      "cell_type": "code",
      "execution_count": null,
      "metadata": {
        "id": "ub7ju4P9lhw9"
      },
      "outputs": [],
      "source": [
        "scaler = StandardScaler().fit(X_train)\n",
        "X_train = scaler.transform(X_train)\n",
        "X_test = scaler.transform(X_test)"
      ]
    },
    {
      "cell_type": "markdown",
      "metadata": {
        "id": "feY5rFT8lk77"
      },
      "source": [
        "Model Training"
      ]
    },
    {
      "cell_type": "code",
      "execution_count": null,
      "metadata": {
        "id": "A2w9L8FYloU5"
      },
      "outputs": [],
      "source": [
        "models = {}\n",
        "models['Decision Tree Classifier'] = DecisionTreeClassifier()\n",
        "models['Random Forest Classifier'] = RandomForestClassifier()\n",
        "models['Gaussian Naive Bayes'] = GaussianNB()"
      ]
    },
    {
      "cell_type": "code",
      "execution_count": null,
      "metadata": {
        "id": "xAb4Sd4qlkTA"
      },
      "outputs": [],
      "source": [
        "train_score, accuracy, precision, recall, training_time, y_pred = {}, {}, {}, {}, {}, {}\n",
        "for key in models.keys():\n",
        "    start_time = time.time()\n",
        "    models[key].fit(X_train, y_train)\n",
        "    training_time[key] = time.time() - start_time\n",
        "    \n",
        "    y_pred[key] = models[key].predict(X_test)\n",
        "    \n",
        "    train_score[key] = models[key].score(X_train, y_train)\n",
        "    accuracy[key] = models[key].score(X_test, y_test)\n",
        "    precision[key] = precision_score(y_test, y_pred[key])\n",
        "    recall[key] = recall_score(y_test, y_pred[key])"
      ]
    },
    {
      "cell_type": "markdown",
      "metadata": {
        "id": "hDf4-_rOl3TI"
      },
      "source": [
        "Use recursive feature elimination while choosing features.\n"
      ]
    },
    {
      "cell_type": "code",
      "execution_count": null,
      "metadata": {
        "colab": {
          "background_save": true
        },
        "id": "UWOA6pbRlzW5"
      },
      "outputs": [],
      "source": [
        "rfc_rfe = 'Random Forest Classifier + Recursive Feature Elimination'\n",
        "models[rfc_rfe] = RandomForestClassifier()\n",
        "rfe = RFE(models[rfc_rfe])\n",
        "start_time = time.time()\n",
        "rfe.fit(X_train, y_train)\n",
        "training_time[rfc_rfe] = time.time() - start_time\n",
        "\n",
        "X_train_rfe = rfe.transform(X_train)\n",
        "X_test_rfe = rfe.transform(X_test)\n",
        "\n",
        "start_time = time.time()\n",
        "models[rfc_rfe].fit(X_train_rfe, y_train)\n",
        "training_time[rfc_rfe] = training_time[rfc_rfe] + (time.time() - start_time)\n",
        "    \n",
        "y_pred[key] = models[rfc_rfe].predict(X_test_rfe)\n",
        "    \n",
        "train_score[rfc_rfe] = models[rfc_rfe].score(X_train_rfe, y_train)\n",
        "accuracy[rfc_rfe] = models[rfc_rfe].score(X_test_rfe, y_test)\n",
        "precision[rfc_rfe] = precision_score(y_test, y_pred[key])\n",
        "recall[rfc_rfe] = recall_score(y_test, y_pred[key])"
      ]
    },
    {
      "cell_type": "code",
      "execution_count": null,
      "metadata": {
        "colab": {
          "base_uri": "https://localhost:8080/"
        },
        "id": "1tOCsb3EmEW-",
        "outputId": "a13c227a-b29c-466a-c4bb-72ad23396e31"
      },
      "outputs": [
        {
          "name": "stdout",
          "output_type": "stream",
          "text": [
            "Old number of features: 38\n",
            "New number of features: 19\n"
          ]
        }
      ],
      "source": [
        "print(\"Old number of features:\", X.shape[1])\n",
        "print(\"New number of features:\", len(rfe.estimator_.feature_importances_))"
      ]
    },
    {
      "cell_type": "markdown",
      "metadata": {
        "id": "5pQz9mtkmMYA"
      },
      "source": [
        "Models Comparison"
      ]
    },
    {
      "cell_type": "code",
      "execution_count": null,
      "metadata": {
        "id": "k8Vcv6IgmHZv"
      },
      "outputs": [],
      "source": [
        "df_models = pd.DataFrame(index=models.keys(), columns=['Training score', 'Accuracy', 'Precision', 'Recall', 'Training time'])\n",
        "df_models['Training score'] = train_score.values()\n",
        "df_models['Accuracy'] = accuracy.values()\n",
        "df_models['Precision'] = precision.values()\n",
        "df_models['Recall'] = recall.values()\n",
        "df_models['Training time'] = training_time.values()"
      ]
    },
    {
      "cell_type": "code",
      "execution_count": null,
      "metadata": {
        "colab": {
          "base_uri": "https://localhost:8080/"
        },
        "id": "F8EXyUkQmQFP",
        "outputId": "eeb746fb-81b0-4062-9b02-36269cd04944"
      },
      "outputs": [
        {
          "data": {
            "text/html": [
              "\n",
              "  <div id=\"df-46b252c2-a65e-4934-b659-17b3d8a3adda\">\n",
              "    <div class=\"colab-df-container\">\n",
              "      <div>\n",
              "<style scoped>\n",
              "    .dataframe tbody tr th:only-of-type {\n",
              "        vertical-align: middle;\n",
              "    }\n",
              "\n",
              "    .dataframe tbody tr th {\n",
              "        vertical-align: top;\n",
              "    }\n",
              "\n",
              "    .dataframe thead th {\n",
              "        text-align: right;\n",
              "    }\n",
              "</style>\n",
              "<table border=\"1\" class=\"dataframe\">\n",
              "  <thead>\n",
              "    <tr style=\"text-align: right;\">\n",
              "      <th></th>\n",
              "      <th>Training score</th>\n",
              "      <th>Accuracy</th>\n",
              "      <th>Precision</th>\n",
              "      <th>Recall</th>\n",
              "      <th>Training time</th>\n",
              "    </tr>\n",
              "  </thead>\n",
              "  <tbody>\n",
              "    <tr>\n",
              "      <th>Decision Tree Classifier</th>\n",
              "      <td>0.997705</td>\n",
              "      <td>0.934103</td>\n",
              "      <td>0.949144</td>\n",
              "      <td>0.947645</td>\n",
              "      <td>3.620069</td>\n",
              "    </tr>\n",
              "    <tr>\n",
              "      <th>Random Forest Classifier</th>\n",
              "      <td>0.997705</td>\n",
              "      <td>0.949160</td>\n",
              "      <td>0.963106</td>\n",
              "      <td>0.957100</td>\n",
              "      <td>50.473494</td>\n",
              "    </tr>\n",
              "    <tr>\n",
              "      <th>Gaussian Naive Bayes</th>\n",
              "      <td>0.834896</td>\n",
              "      <td>0.831945</td>\n",
              "      <td>0.838551</td>\n",
              "      <td>0.912722</td>\n",
              "      <td>0.163634</td>\n",
              "    </tr>\n",
              "    <tr>\n",
              "      <th>Random Forest Classifier + Recursive Feature Elimination</th>\n",
              "      <td>0.995243</td>\n",
              "      <td>0.946043</td>\n",
              "      <td>0.958605</td>\n",
              "      <td>0.956877</td>\n",
              "      <td>897.720960</td>\n",
              "    </tr>\n",
              "  </tbody>\n",
              "</table>\n",
              "</div>\n",
              "      <button class=\"colab-df-convert\" onclick=\"convertToInteractive('df-46b252c2-a65e-4934-b659-17b3d8a3adda')\"\n",
              "              title=\"Convert this dataframe to an interactive table.\"\n",
              "              style=\"display:none;\">\n",
              "        \n",
              "  <svg xmlns=\"http://www.w3.org/2000/svg\" height=\"24px\"viewBox=\"0 0 24 24\"\n",
              "       width=\"24px\">\n",
              "    <path d=\"M0 0h24v24H0V0z\" fill=\"none\"/>\n",
              "    <path d=\"M18.56 5.44l.94 2.06.94-2.06 2.06-.94-2.06-.94-.94-2.06-.94 2.06-2.06.94zm-11 1L8.5 8.5l.94-2.06 2.06-.94-2.06-.94L8.5 2.5l-.94 2.06-2.06.94zm10 10l.94 2.06.94-2.06 2.06-.94-2.06-.94-.94-2.06-.94 2.06-2.06.94z\"/><path d=\"M17.41 7.96l-1.37-1.37c-.4-.4-.92-.59-1.43-.59-.52 0-1.04.2-1.43.59L10.3 9.45l-7.72 7.72c-.78.78-.78 2.05 0 2.83L4 21.41c.39.39.9.59 1.41.59.51 0 1.02-.2 1.41-.59l7.78-7.78 2.81-2.81c.8-.78.8-2.07 0-2.86zM5.41 20L4 18.59l7.72-7.72 1.47 1.35L5.41 20z\"/>\n",
              "  </svg>\n",
              "      </button>\n",
              "      \n",
              "  <style>\n",
              "    .colab-df-container {\n",
              "      display:flex;\n",
              "      flex-wrap:wrap;\n",
              "      gap: 12px;\n",
              "    }\n",
              "\n",
              "    .colab-df-convert {\n",
              "      background-color: #E8F0FE;\n",
              "      border: none;\n",
              "      border-radius: 50%;\n",
              "      cursor: pointer;\n",
              "      display: none;\n",
              "      fill: #1967D2;\n",
              "      height: 32px;\n",
              "      padding: 0 0 0 0;\n",
              "      width: 32px;\n",
              "    }\n",
              "\n",
              "    .colab-df-convert:hover {\n",
              "      background-color: #E2EBFA;\n",
              "      box-shadow: 0px 1px 2px rgba(60, 64, 67, 0.3), 0px 1px 3px 1px rgba(60, 64, 67, 0.15);\n",
              "      fill: #174EA6;\n",
              "    }\n",
              "\n",
              "    [theme=dark] .colab-df-convert {\n",
              "      background-color: #3B4455;\n",
              "      fill: #D2E3FC;\n",
              "    }\n",
              "\n",
              "    [theme=dark] .colab-df-convert:hover {\n",
              "      background-color: #434B5C;\n",
              "      box-shadow: 0px 1px 3px 1px rgba(0, 0, 0, 0.15);\n",
              "      filter: drop-shadow(0px 1px 2px rgba(0, 0, 0, 0.3));\n",
              "      fill: #FFFFFF;\n",
              "    }\n",
              "  </style>\n",
              "\n",
              "      <script>\n",
              "        const buttonEl =\n",
              "          document.querySelector('#df-46b252c2-a65e-4934-b659-17b3d8a3adda button.colab-df-convert');\n",
              "        buttonEl.style.display =\n",
              "          google.colab.kernel.accessAllowed ? 'block' : 'none';\n",
              "\n",
              "        async function convertToInteractive(key) {\n",
              "          const element = document.querySelector('#df-46b252c2-a65e-4934-b659-17b3d8a3adda');\n",
              "          const dataTable =\n",
              "            await google.colab.kernel.invokeFunction('convertToInteractive',\n",
              "                                                     [key], {});\n",
              "          if (!dataTable) return;\n",
              "\n",
              "          const docLinkHtml = 'Like what you see? Visit the ' +\n",
              "            '<a target=\"_blank\" href=https://colab.research.google.com/notebooks/data_table.ipynb>data table notebook</a>'\n",
              "            + ' to learn more about interactive tables.';\n",
              "          element.innerHTML = '';\n",
              "          dataTable['output_type'] = 'display_data';\n",
              "          await google.colab.output.renderOutput(dataTable, element);\n",
              "          const docLink = document.createElement('div');\n",
              "          docLink.innerHTML = docLinkHtml;\n",
              "          element.appendChild(docLink);\n",
              "        }\n",
              "      </script>\n",
              "    </div>\n",
              "  </div>\n",
              "  "
            ],
            "text/plain": [
              "                                                    Training score  Accuracy  \\\n",
              "Decision Tree Classifier                                  0.997705  0.934103   \n",
              "Random Forest Classifier                                  0.997705  0.949160   \n",
              "Gaussian Naive Bayes                                      0.834896  0.831945   \n",
              "Random Forest Classifier + Recursive Feature El...        0.995243  0.946043   \n",
              "\n",
              "                                                    Precision    Recall  \\\n",
              "Decision Tree Classifier                             0.949144  0.947645   \n",
              "Random Forest Classifier                             0.963106  0.957100   \n",
              "Gaussian Naive Bayes                                 0.838551  0.912722   \n",
              "Random Forest Classifier + Recursive Feature El...   0.958605  0.956877   \n",
              "\n",
              "                                                    Training time  \n",
              "Decision Tree Classifier                                 3.620069  \n",
              "Random Forest Classifier                                50.473494  \n",
              "Gaussian Naive Bayes                                     0.163634  \n",
              "Random Forest Classifier + Recursive Feature El...     897.720960  "
            ]
          },
          "execution_count": 35,
          "metadata": {},
          "output_type": "execute_result"
        }
      ],
      "source": [
        "df_models"
      ]
    },
    {
      "cell_type": "markdown",
      "metadata": {
        "id": "JnNyK0hUmZ-3"
      },
      "source": [
        "Because Random Forest Classifier is the best model so far. We will choose this model for the Intrusion Detection System. The following are more details about this model."
      ]
    },
    {
      "cell_type": "code",
      "execution_count": null,
      "metadata": {
        "colab": {
          "base_uri": "https://localhost:8080/"
        },
        "id": "XSuaRvYzmbFX",
        "outputId": "e2a23cb6-6586-407e-efaa-ca5e3532910d"
      },
      "outputs": [
        {
          "data": {
            "image/png": "[encoded data removed]",
            "text/plain": [
              "<Figure size 640x480 with 1 Axes>"
            ]
          },
          "metadata": {},
          "output_type": "display_data"
        }
      ],
      "source": [
        "display = PrecisionRecallDisplay.from_predictions(y_test, y_pred['Random Forest Classifier'])"
      ]
    },
    {
      "cell_type": "code",
      "execution_count": null,
      "metadata": {
        "colab": {
          "base_uri": "https://localhost:8080/"
        },
        "id": "ixbO_dgqmdnG",
        "outputId": "24907c6b-4a96-4699-cda2-0d77a6de49ce"
      },
      "outputs": [
        {
          "data": {
            "image/png": "[encoded data removed]",
            "text/plain": [
              "<Figure size 640x480 with 2 Axes>"
            ]
          },
          "metadata": {},
          "output_type": "display_data"
        }
      ],
      "source": [
        "cm = confusion_matrix(y_test, y_pred['Random Forest Classifier'], labels=models['Random Forest Classifier'].classes_)\n",
        "disp = ConfusionMatrixDisplay(confusion_matrix=cm, display_labels=models['Random Forest Classifier'].classes_)\n",
        "disp.plot(cmap='Blues')\n",
        "plt.show()"
      ]
    },
    {
      "cell_type": "code",
      "execution_count": null,
      "metadata": {
        "colab": {
          "base_uri": "https://localhost:8080/",
          "height": 246
        },
        "id": "dAH8QQ_Nmhuo",
        "outputId": "f2e9b123-3682-44d9-cfd9-4ae6a6cd3937"
      },
      "outputs": [
        {
          "ename": "NameError",
          "evalue": "ignored",
          "output_type": "error",
          "traceback": [
            "\u001b[0;31m---------------------------------------------------------------------------\u001b[0m",
            "\u001b[0;31mNameError\u001b[0m                                 Traceback (most recent call last)",
            "\u001b[0;32m<ipython-input-2-34762c6e66a0>\u001b[0m in \u001b[0;36m<cell line: 5>\u001b[0;34m()\u001b[0m\n\u001b[1;32m      3\u001b[0m \u001b[0;31m# Load the machine learning model\u001b[0m\u001b[0;34m\u001b[0m\u001b[0;34m\u001b[0m\u001b[0m\n\u001b[1;32m      4\u001b[0m \u001b[0mmodel\u001b[0m \u001b[0;34m=\u001b[0m \u001b[0mRandomForestClassifier\u001b[0m\u001b[0;34m(\u001b[0m\u001b[0;34m)\u001b[0m\u001b[0;34m\u001b[0m\u001b[0;34m\u001b[0m\u001b[0m\n\u001b[0;32m----> 5\u001b[0;31m \u001b[0mmodel\u001b[0m \u001b[0;34m=\u001b[0m \u001b[0mmodel\u001b[0m\u001b[0;34m.\u001b[0m\u001b[0mfit\u001b[0m\u001b[0;34m(\u001b[0m\u001b[0mX_train\u001b[0m\u001b[0;34m,\u001b[0m \u001b[0my_train\u001b[0m\u001b[0;34m)\u001b[0m\u001b[0;34m\u001b[0m\u001b[0;34m\u001b[0m\u001b[0m\n\u001b[0m\u001b[1;32m      6\u001b[0m \u001b[0;34m\u001b[0m\u001b[0m\n\u001b[1;32m      7\u001b[0m \u001b[0;31m# Save the model as a joblib file\u001b[0m\u001b[0;34m\u001b[0m\u001b[0;34m\u001b[0m\u001b[0m\n",
            "\u001b[0;31mNameError\u001b[0m: name 'X_train' is not defined"
          ]
        }
      ],
      "source": [
        "from sklearn.ensemble import RandomForestClassifier\n",
        "\n",
        "# Load the machine learning model\n",
        "model = RandomForestClassifier()\n",
        "model = model.fit(X_train, y_train)\n",
        "\n",
        "# Save the model as a joblib file\n",
        "joblib.dump(model, 'model.joblib')\n"
      ]
    }
  ],
  "metadata": {
    "colab": {
      "provenance": []
    },
    "kernelspec": {
      "display_name": "Python 3",
      "name": "python3"
    },
    "language_info": {
      "name": "python"
    }
  },
  "nbformat": 4,
  "nbformat_minor": 0
}